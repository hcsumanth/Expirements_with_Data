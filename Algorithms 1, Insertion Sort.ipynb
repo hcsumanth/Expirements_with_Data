{
 "cells": [
  {
   "cell_type": "markdown",
   "metadata": {},
   "source": [
    "## So the next grand question - What is an Algorithm?\n",
    "A well defined Computational process that takes something as a n input and spits out something as an output in a systematic way of a well defined computational problem\n",
    "\n",
    "Instance of the problem consist of inputs subject to constraints imposed on the problem statement required to solve the problem. Ex: instance of a Sorting Problem\n",
    "\n",
    "#### Hard Problems\n",
    "A usual metric to calculate the efficiency of an algorithm is to use speed.\n",
    "NP Complete are the problems for which no efficient solution is known and come with a property \n",
    "If there is an efficient solution to one NP Complete Problem then there exists solution for all NP Complete Problems\n",
    "Ex Travelling Salesman Problem\n",
    "\n",
    "Resource Speed Paradox\n",
    "Computers are fast and Memory is considerable inexpensive and the Compute time is bound by resource and space in memory"
   ]
  },
  {
   "cell_type": "markdown",
   "metadata": {},
   "source": [
    "Jupyter gets a neat way of getting the run time of the execution %timeit for a line magic and %%timeit for cell magic \n",
    "\n",
    "%lsmagic"
   ]
  },
  {
   "cell_type": "code",
   "execution_count": 1,
   "metadata": {},
   "outputs": [
    {
     "data": {
      "application/json": {
       "cell": {
        "!": "OSMagics",
        "HTML": "Other",
        "SVG": "Other",
        "bash": "Other",
        "capture": "ExecutionMagics",
        "cmd": "Other",
        "debug": "ExecutionMagics",
        "file": "Other",
        "html": "DisplayMagics",
        "javascript": "DisplayMagics",
        "js": "DisplayMagics",
        "latex": "DisplayMagics",
        "markdown": "DisplayMagics",
        "perl": "Other",
        "prun": "ExecutionMagics",
        "pypy": "Other",
        "python": "Other",
        "python2": "Other",
        "python3": "Other",
        "ruby": "Other",
        "script": "ScriptMagics",
        "sh": "Other",
        "svg": "DisplayMagics",
        "sx": "OSMagics",
        "system": "OSMagics",
        "time": "ExecutionMagics",
        "timeit": "ExecutionMagics",
        "writefile": "OSMagics"
       },
       "line": {
        "alias": "OSMagics",
        "alias_magic": "BasicMagics",
        "autocall": "AutoMagics",
        "automagic": "AutoMagics",
        "autosave": "KernelMagics",
        "bookmark": "OSMagics",
        "cd": "OSMagics",
        "clear": "KernelMagics",
        "cls": "KernelMagics",
        "colors": "BasicMagics",
        "config": "ConfigMagics",
        "connect_info": "KernelMagics",
        "copy": "Other",
        "ddir": "Other",
        "debug": "ExecutionMagics",
        "dhist": "OSMagics",
        "dirs": "OSMagics",
        "doctest_mode": "BasicMagics",
        "echo": "Other",
        "ed": "Other",
        "edit": "KernelMagics",
        "env": "OSMagics",
        "gui": "BasicMagics",
        "hist": "Other",
        "history": "HistoryMagics",
        "killbgscripts": "ScriptMagics",
        "ldir": "Other",
        "less": "KernelMagics",
        "load": "CodeMagics",
        "load_ext": "ExtensionMagics",
        "loadpy": "CodeMagics",
        "logoff": "LoggingMagics",
        "logon": "LoggingMagics",
        "logstart": "LoggingMagics",
        "logstate": "LoggingMagics",
        "logstop": "LoggingMagics",
        "ls": "Other",
        "lsmagic": "BasicMagics",
        "macro": "ExecutionMagics",
        "magic": "BasicMagics",
        "matplotlib": "PylabMagics",
        "mkdir": "Other",
        "more": "KernelMagics",
        "notebook": "BasicMagics",
        "page": "BasicMagics",
        "pastebin": "CodeMagics",
        "pdb": "ExecutionMagics",
        "pdef": "NamespaceMagics",
        "pdoc": "NamespaceMagics",
        "pfile": "NamespaceMagics",
        "pinfo": "NamespaceMagics",
        "pinfo2": "NamespaceMagics",
        "pip": "BasicMagics",
        "popd": "OSMagics",
        "pprint": "BasicMagics",
        "precision": "BasicMagics",
        "profile": "BasicMagics",
        "prun": "ExecutionMagics",
        "psearch": "NamespaceMagics",
        "psource": "NamespaceMagics",
        "pushd": "OSMagics",
        "pwd": "OSMagics",
        "pycat": "OSMagics",
        "pylab": "PylabMagics",
        "qtconsole": "KernelMagics",
        "quickref": "BasicMagics",
        "recall": "HistoryMagics",
        "rehashx": "OSMagics",
        "reload_ext": "ExtensionMagics",
        "ren": "Other",
        "rep": "Other",
        "rerun": "HistoryMagics",
        "reset": "NamespaceMagics",
        "reset_selective": "NamespaceMagics",
        "rmdir": "Other",
        "run": "ExecutionMagics",
        "save": "CodeMagics",
        "sc": "OSMagics",
        "set_env": "OSMagics",
        "store": "StoreMagics",
        "sx": "OSMagics",
        "system": "OSMagics",
        "tb": "ExecutionMagics",
        "time": "ExecutionMagics",
        "timeit": "ExecutionMagics",
        "unalias": "OSMagics",
        "unload_ext": "ExtensionMagics",
        "who": "NamespaceMagics",
        "who_ls": "NamespaceMagics",
        "whos": "NamespaceMagics",
        "xdel": "NamespaceMagics",
        "xmode": "BasicMagics"
       }
      },
      "text/plain": [
       "Available line magics:\n",
       "%alias  %alias_magic  %autocall  %automagic  %autosave  %bookmark  %cd  %clear  %cls  %colors  %config  %connect_info  %copy  %ddir  %debug  %dhist  %dirs  %doctest_mode  %echo  %ed  %edit  %env  %gui  %hist  %history  %killbgscripts  %ldir  %less  %load  %load_ext  %loadpy  %logoff  %logon  %logstart  %logstate  %logstop  %ls  %lsmagic  %macro  %magic  %matplotlib  %mkdir  %more  %notebook  %page  %pastebin  %pdb  %pdef  %pdoc  %pfile  %pinfo  %pinfo2  %popd  %pprint  %precision  %profile  %prun  %psearch  %psource  %pushd  %pwd  %pycat  %pylab  %qtconsole  %quickref  %recall  %rehashx  %reload_ext  %ren  %rep  %rerun  %reset  %reset_selective  %rmdir  %run  %save  %sc  %set_env  %store  %sx  %system  %tb  %time  %timeit  %unalias  %unload_ext  %who  %who_ls  %whos  %xdel  %xmode\n",
       "\n",
       "Available cell magics:\n",
       "%%!  %%HTML  %%SVG  %%bash  %%capture  %%cmd  %%debug  %%file  %%html  %%javascript  %%js  %%latex  %%markdown  %%perl  %%prun  %%pypy  %%python  %%python2  %%python3  %%ruby  %%script  %%sh  %%svg  %%sx  %%system  %%time  %%timeit  %%writefile\n",
       "\n",
       "Automagic is ON, % prefix IS NOT needed for line magics."
      ]
     },
     "execution_count": 1,
     "metadata": {},
     "output_type": "execute_result"
    }
   ],
   "source": [
    "%lsmagic"
   ]
  },
  {
   "cell_type": "markdown",
   "metadata": {},
   "source": [
    "## To the Basics, Counting to Sorting - Insertion Sort\n",
    "\n",
    "Insertion Sort solves the Sorting problem, Good used for smaller sets\n",
    "\n",
    "### Problem Statement\n",
    "#### Input = { $a_1$, $a_2$, ... $a_n$ }  for the sequence of n numbers\n",
    "#### Output = { $a_1^`$, $a_2^`$, ... $a_n^`$   }  with reordering such that  $a_1^`$ $\\le$ $a_2^`$ $\\le$ , ... $\\le$ $a_n^`$\n",
    "\n",
    "The number of elements are also called as keys but in general as an array\n",
    "Insertion Sort is an efficient algorithm for sorting small number of elements\n",
    "\n",
    "First start with an empty set and start adding elements to the list by comparing the element with all of elements such that correct ordered elements exists in the new list created"
   ]
  },
  {
   "cell_type": "markdown",
   "metadata": {},
   "source": [
    "### Pseudocode INSERTION-SORT(A) \n",
    "\n",
    "for j = 2 to A.length\n",
    "    key = A[j]    // Insert A[j] to the sorted sequence\n",
    "    i = j - 1\n",
    "    while i > 0 & A[i] > key\n",
    "    A[i+1] = A[i]\n",
    "    i = i - 1\n",
    "    A[i+1] = key\n",
    "    \n",
    "##### Loop Invarients\n",
    "A Computer Science concept to say the predicate (Condition) holds true for every iteration of the loop before and after\n",
    "Something from the below example in line 14\n",
    "\n",
    "Loop invarients can only be understood with breaking the code\n",
    "\n",
    "Initialization: True before first iteration of the loop (For first iteration 0 to 1 element is sorted)\n",
    "Maintenance:    True before first initialization and before the next iteration \n",
    "Termination:    True that the first element is sorted \n"
   ]
  },
  {
   "cell_type": "code",
   "execution_count": 2,
   "metadata": {},
   "outputs": [
    {
     "name": "stdout",
     "output_type": "stream",
     "text": [
      "19.1 µs ± 775 ns per loop (mean ± std. dev. of 7 runs, 100000 loops each)\n"
     ]
    }
   ],
   "source": [
    "%%timeit\n",
    "# The Actual code for Insertion Sort to sort increasing order\n",
    "# Simulate some random integers to test the span\n",
    "import random\n",
    "\n",
    "LENGTH_OF_THE_ARRAY = 10\n",
    "\n",
    "A = [0 for x in range(LENGTH_OF_THE_ARRAY)]\n",
    "for a in range(LENGTH_OF_THE_ARRAY):\n",
    "    A[a] = random.randrange(0,100000)\n",
    "        \n",
    "for ind in range(0,len(A)):  \n",
    "    val = A[ind]    \n",
    "    preind = ind - 1\n",
    "    # The array with elements from 0 to ind is sorted \n",
    "    # Good idea to have reference from current index to navigate up or down\n",
    "    while ( (preind >=0)  & (A[preind] > val)):\n",
    "        A[preind + 1] = A[preind] \n",
    "        preind = preind - 1\n",
    "        A[preind + 1] = val  \n",
    "#print(A)"
   ]
  },
  {
   "cell_type": "code",
   "execution_count": 5,
   "metadata": {},
   "outputs": [
    {
     "data": {
      "text/plain": [
       "[87807, 58213, 49144, 36834, 33466, 20418, 18958, 13021, 11796, 1239]"
      ]
     },
     "execution_count": 5,
     "metadata": {},
     "output_type": "execute_result"
    }
   ],
   "source": [
    "A"
   ]
  },
  {
   "cell_type": "markdown",
   "metadata": {},
   "source": [
    "The real test of Complexity comes with the increased length to sort\n",
    "Spoiler, Getting random number itself is slightly time consuming task\n",
    "\n",
    "Length of the array      Time taken to sort\n",
    "10                       18 µs\n",
    "100                      604 µs\n",
    "1000                     57.3 ms\n",
    "10000                    5.86 s\n",
    "100000                   >6000 s  [More than exponential time]"
   ]
  },
  {
   "cell_type": "markdown",
   "metadata": {},
   "source": [
    "For analysing any algorithm we use generic processor called RAM [Random Access Machine] model of computation and every of the instruction is concurrent and run one after the other \n",
    "\n",
    "#### Analysis of Insertion Sort\n",
    "+ Time taken by Insertion Sort depends on the input of the sequence to sort\n",
    "+ Takes different time for different numbers of same length depending on how nearly the sequence is sorted\n",
    "\n",
    "Running time and Size of the input holds the key in Insertion Sort\n",
    "\n",
    "##### Cost of Running time\n",
    "\n",
    "Assuming the statement to execute an instruction be called as Statement cost  $c_i$\n",
    "And the number of times the while loop executes for the instruction j $t_j$\n",
    "\n",
    "\n",
    "INSERTION-SORT.A                      cost                                  times\n",
    "\n",
    "for j = 2 to A.length                 c1                                      n\n",
    "\n",
    "  key = A[j]                          c2                                    n - 1\n",
    "  \n",
    "       // Insert AŒj  into the sorted sequence [1 .. (j - 1)]  There would be no cost ssociated for a comment\n",
    "       \n",
    "i = j - 1                             c4                                    n - 1\n",
    "\n",
    "while (i > 0 and [i] > key)           c5                                   $$\\sum_{j=2}^n= t_j$$\n",
    "\n",
    "    A[i + 1] = A[i]                   c6                                  $$\\sum_{j=2}^n= (t_j - 1)$$\n",
    "    \n",
    "    i = i - 1                         c7                                  $$\\sum_{j=2}^n= (t_j - 1)$$\n",
    "    \n",
    "    A[i + 1] = key                    c8                                    n - 1\n",
    "    \n",
    "    \n",
    "T(n) be the total running tim of the INSERTION SORT Algorithm which would be the sum total of all the times above multiplied by the Cost \n",
    "\n",
    "Best Case running time is seen when the array is already sorted (Only possible when the While loop does not execute) and the cost is a linear function in time \n",
    "\n",
    "Worst Case running time is seen when the array is reverse sorted (While loop has to execute for i+1 to last element) and the cost is a Quadratic function in time i.e $$a*n^2 + b*n + c$$\n",
    "\n",
    "There may be a case we would be interested in knowing the Average running time for an algorithm, though not practically possible but still would be good to use probabilistic methods applied which can yield an expected running time.\n",
    "\n",
    "Worst Case running time is a good measure for time complexity for any algorithm"
   ]
  },
  {
   "cell_type": "markdown",
   "metadata": {},
   "source": [
    "##### Rate or Order of Growth\n",
    "By ignoring the trailing terms in the worst case running time (an^2 + bn + c) as the order of n^2 \n",
    "\n",
    "Lower order terms are relatively insignificant for large vales of n and co-efficients are constant and can be ignored\n",
    "\n",
    "And order of Insertion Sort can be written as Theta of n Squared \n",
    "\n",
    "One algorithm is consiered efficient if the worst case running time has lower order of growth"
   ]
  },
  {
   "cell_type": "markdown",
   "metadata": {},
   "source": [
    "Can we use the same logic to do the otherwise\n",
    "Rewrite the INSERTION-SORT procedure to sort into nonincreasing instead of nondecreasing order\n",
    "Shouldn't this be of same order"
   ]
  },
  {
   "cell_type": "code",
   "execution_count": 4,
   "metadata": {},
   "outputs": [
    {
     "name": "stdout",
     "output_type": "stream",
     "text": [
      "[87807, 58213, 49144, 36834, 33466, 20418, 18958, 13021, 11796, 1239]\n"
     ]
    }
   ],
   "source": [
    "import random\n",
    "\n",
    "LENGTH_OF_THE_ARRAY = 10\n",
    "\n",
    "A = [0 for x in range(LENGTH_OF_THE_ARRAY)]\n",
    "for a in range(LENGTH_OF_THE_ARRAY):\n",
    "    A[a] = random.randrange(0,100000)\n",
    "        \n",
    "for ind in range(0,len(A)):  \n",
    "    val = A[ind]    \n",
    "    preind = ind - 1\n",
    "    # The array with elements from 0 to ind is sorted \n",
    "    # Good idea to have reference from current index to navigate up or down\n",
    "    while ( (preind >=0)  & (A[preind] < val)):\n",
    "        A[preind + 1] = A[preind] \n",
    "        preind = preind - 1\n",
    "        A[preind + 1] = val  \n",
    "print(A)"
   ]
  }
 ],
 "metadata": {
  "kernelspec": {
   "display_name": "Python 3",
   "language": "python",
   "name": "python3"
  },
  "language_info": {
   "codemirror_mode": {
    "name": "ipython",
    "version": 3
   },
   "file_extension": ".py",
   "mimetype": "text/x-python",
   "name": "python",
   "nbconvert_exporter": "python",
   "pygments_lexer": "ipython3",
   "version": "3.6.3"
  }
 },
 "nbformat": 4,
 "nbformat_minor": 2
}
