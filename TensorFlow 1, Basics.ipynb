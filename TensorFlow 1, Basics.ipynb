{
 "cells": [
  {
   "cell_type": "markdown",
   "metadata": {},
   "source": [
    "# Tensor Flow"
   ]
  },
  {
   "cell_type": "markdown",
   "metadata": {},
   "source": [
    "TensorFlow is an open-source software library for dataflow programming across a range of tasks. It is a symbolic math library, and is also used for machine learning applications such as neural networks.![330px-TensorFlowLogo.svg.png](https://upload.wikimedia.org/wikipedia/commons/thumb/1/11/TensorFlowLogo.svg/330px-TensorFlowLogo.svg.png)"
   ]
  },
  {
   "cell_type": "markdown",
   "metadata": {},
   "source": [
    "+ Open Source backed by Google\n",
    "+ Good for heavy numerical computations\n",
    "+ Tailored for Machine Learning and Deep Neural Networks\n",
    "+ Has a C/C++ backend (Runs much faster than a vanila Python) and brings a Python and C++ API"
   ]
  },
  {
   "cell_type": "markdown",
   "metadata": {},
   "source": [
    "### Data Flow Graphs\n",
    "+ TensorFlow uses dataflow graphs to represent a computation in terms of dependancyies between operations. The programming model is to create a dataflow graph and then execute through a session \n",
    "![tensors_flowing.gif](https://www.tensorflow.org/images/tensors_flowing.gif)\n",
    "* Is highly parallel\n",
    "* Gives scope ofr distributed computation (A switch between CPU, GPU and TPU)\n",
    "* Provides faster execution by fusing adjacent operations (Compilation)\n",
    "* Portability, Model can be built in Python and saved and can be used for a C++ program"
   ]
  },
  {
   "cell_type": "markdown",
   "metadata": {},
   "source": [
    "Importing TensorFlow, pip install --upgrade tensorflow to install tf"
   ]
  },
  {
   "cell_type": "code",
   "execution_count": 1,
   "metadata": {},
   "outputs": [
    {
     "name": "stderr",
     "output_type": "stream",
     "text": [
      "C:\\IntelPython3\\envs\\idpfull\\lib\\site-packages\\h5py\\__init__.py:36: FutureWarning: Conversion of the second argument of issubdtype from `float` to `np.floating` is deprecated. In future, it will be treated as `np.float64 == np.dtype(float).type`.\n",
      "  from ._conv import register_converters as _register_converters\n"
     ]
    }
   ],
   "source": [
    "import tensorflow as tf"
   ]
  },
  {
   "cell_type": "markdown",
   "metadata": {},
   "source": [
    "Building a Graph\n",
    "Source Operations, which do not need any input information "
   ]
  },
  {
   "cell_type": "code",
   "execution_count": 2,
   "metadata": {},
   "outputs": [],
   "source": [
    "a = tf.constant([2])\n",
    "b = tf.constant([5])\n",
    "c = tf.add(a,b)"
   ]
  },
  {
   "cell_type": "code",
   "execution_count": 3,
   "metadata": {},
   "outputs": [
    {
     "data": {
      "text/plain": [
       "<tf.Tensor 'Add:0' shape=(1,) dtype=int32>"
      ]
     },
     "execution_count": 3,
     "metadata": {},
     "output_type": "execute_result"
    }
   ],
   "source": [
    "c # c does not hold any output as such and is just a tensor mapped to add a and b "
   ]
  },
  {
   "cell_type": "code",
   "execution_count": 10,
   "metadata": {},
   "outputs": [],
   "source": [
    "session = tf.Session()"
   ]
  },
  {
   "cell_type": "code",
   "execution_count": 7,
   "metadata": {},
   "outputs": [
    {
     "name": "stdout",
     "output_type": "stream",
     "text": [
      "[7]\n"
     ]
    }
   ],
   "source": [
    "result = session.run(c)\n",
    "print(result)"
   ]
  },
  {
   "cell_type": "code",
   "execution_count": 8,
   "metadata": {},
   "outputs": [],
   "source": [
    "session.close()"
   ]
  },
  {
   "cell_type": "markdown",
   "metadata": {},
   "source": [
    "1) Build a Graph tf.add(a,b)\n",
    "\n",
    "2) Create a session and call run on the graph created\n",
    "\n",
    "3) Close the session to release resources"
   ]
  },
  {
   "cell_type": "markdown",
   "metadata": {},
   "source": [
    "As mathematical objects: <br><br>\n",
    "<img src=\"https://ibm.box.com/shared/static/kmxz570uai8eeg6i6ynqdz6kmlx1m422.png\">\n",
    "<div style=\"text-align:center\">[[Image Source]](https://book.mql4.com/variables/arrays)</div>"
   ]
  },
  {
   "cell_type": "markdown",
   "metadata": {},
   "source": [
    "## Data Structures in Tensor Flow"
   ]
  },
  {
   "cell_type": "code",
   "execution_count": 16,
   "metadata": {},
   "outputs": [],
   "source": [
    "scalar = tf.constant([5000])\n",
    "vector = tf.constant([10,50,800])\n",
    "matrix = tf.constant([[1,2,3],[4,5,6],[7,8,9]])\n",
    "tensor = tf.constant([[[1,2,3],[2,3,4],[3,4,5]], [[4,5,6],[5,6,7],[6,7,8]], [[7,8,9],[8,9,10],[9,10,11]]])  #3x3x3 (3x3 across three channels)\n"
   ]
  },
  {
   "cell_type": "code",
   "execution_count": 43,
   "metadata": {},
   "outputs": [
    {
     "name": "stdout",
     "output_type": "stream",
     "text": [
      "1\n",
      "[2]\n"
     ]
    }
   ],
   "source": [
    "#Variables\n",
    "\n",
    "\n",
    "state = tf.Variable(1)\n",
    "one = tf.constant([1])\n",
    "new_one = tf.add(state, one)\n",
    "# A variable needs to be initialized before use tf.initialize_all_variables() does this work \n",
    "#result = session.run(state) # will run into an error as the variable is not initialized\n",
    "\n",
    "init_op = tf.initialize_all_variables()\n",
    "\n",
    "with tf.Session() as session:\n",
    "    session.run(init_op)\n",
    "    print(session.run(state))\n",
    "    print(session.run(new_one))"
   ]
  },
  {
   "cell_type": "code",
   "execution_count": 52,
   "metadata": {},
   "outputs": [
    {
     "name": "stdout",
     "output_type": "stream",
     "text": [
      "36.0\n"
     ]
    }
   ],
   "source": [
    "# Placeholders is used to feed the data from outside of a tensorflow model \n",
    "a = tf.placeholder(tf.float32)  # need to give the complete datatype\n",
    "\n",
    "b = a**2\n",
    "\n",
    "with tf.Session() as session:\n",
    "    result = session.run(b,feed_dict={a:6})\n",
    "    print(result)\n",
    "#Any number of values can be given as it is fed as a dictionary and still the run is expecting only one value here     "
   ]
  },
  {
   "cell_type": "markdown",
   "metadata": {},
   "source": [
    "Let us try to fit the random numbers on to a polynomial function $$y = 5x^4 - 7x^3 + 5x -2.8$$ "
   ]
  },
  {
   "cell_type": "code",
   "execution_count": 234,
   "metadata": {
    "scrolled": false
   },
   "outputs": [],
   "source": [
    "x_train=np.random.rand(5000)\n",
    "y_train=x_train**4+x_train**3-x_train\n",
    "x_train=x_train.reshape(len(x_train),1)\n",
    "# A beautiful lesson on the curse of Diminishing Returns\n",
    "x_test=np.linspace(0,1,10)\n",
    "y_test=x_test**4+x_test**3-x_test\n",
    "x_test=x_test.reshape(len(x_test),1)\n",
    "\n",
    "\n",
    "model = Sequential()\n",
    "model.add(Dense(units=200, input_dim=1))\n",
    "model.add(Activation('relu'))\n",
    "model.add(Dense(units=45))\n",
    "model.add(Activation('relu'))\n",
    "model.add(Dense(units=1))\n",
    "\n",
    "model.compile(loss='mean_squared_error',\n",
    "              optimizer='sgd')\n"
   ]
  },
  {
   "cell_type": "code",
   "execution_count": 238,
   "metadata": {},
   "outputs": [
    {
     "name": "stdout",
     "output_type": "stream",
     "text": [
      "Epoch 1/50\n",
      "50000/50000 [==============================] - 3s 61us/step - loss: 0.0157\n",
      "Epoch 2/50\n",
      "50000/50000 [==============================] - 4s 71us/step - loss: 0.0064\n",
      "Epoch 3/50\n",
      "50000/50000 [==============================] - 4s 71us/step - loss: 0.0034\n",
      "Epoch 4/50\n",
      "50000/50000 [==============================] - 4s 73us/step - loss: 0.0022\n",
      "Epoch 5/50\n",
      "50000/50000 [==============================] - 4s 71us/step - loss: 0.0015\n",
      "Epoch 6/50\n",
      "50000/50000 [==============================] - 4s 73us/step - loss: 0.0010\n",
      "Epoch 7/50\n",
      "50000/50000 [==============================] - 4s 73us/step - loss: 7.6473e-04\n",
      "Epoch 8/50\n",
      "50000/50000 [==============================] - 4s 71us/step - loss: 5.8270e-04\n",
      "Epoch 9/50\n",
      "50000/50000 [==============================] - 3s 57us/step - loss: 4.5572e-04\n",
      "Epoch 10/50\n",
      "50000/50000 [==============================] - 3s 56us/step - loss: 3.6474e-04\n",
      "Epoch 11/50\n",
      "50000/50000 [==============================] - 3s 55us/step - loss: 2.9774e-04\n",
      "Epoch 12/50\n",
      "50000/50000 [==============================] - 3s 55us/step - loss: 2.4715e-04\n",
      "Epoch 13/50\n",
      "50000/50000 [==============================] - 3s 56us/step - loss: 2.0845e-04\n",
      "Epoch 14/50\n",
      "50000/50000 [==============================] - 3s 61us/step - loss: 1.7824e-04\n",
      "Epoch 15/50\n",
      "50000/50000 [==============================] - 3s 57us/step - loss: 1.5375e-04\n",
      "Epoch 16/50\n",
      "50000/50000 [==============================] - 3s 55us/step - loss: 1.3420e-04\n",
      "Epoch 17/50\n",
      "50000/50000 [==============================] - 3s 58us/step - loss: 1.1811e-04\n",
      "Epoch 18/50\n",
      "50000/50000 [==============================] - 3s 55us/step - loss: 1.0472e-04\n",
      "Epoch 19/50\n",
      "50000/50000 [==============================] - 3s 54us/step - loss: 9.3636e-05\n",
      "Epoch 20/50\n",
      "50000/50000 [==============================] - 3s 54us/step - loss: 8.4041e-05\n",
      "Epoch 21/50\n",
      "50000/50000 [==============================] - 3s 56us/step - loss: 7.5905e-05\n",
      "Epoch 22/50\n",
      "50000/50000 [==============================] - 3s 56us/step - loss: 6.8888e-05\n",
      "Epoch 23/50\n",
      "50000/50000 [==============================] - 3s 55us/step - loss: 6.2764e-05\n",
      "Epoch 24/50\n",
      "50000/50000 [==============================] - 3s 55us/step - loss: 5.7537e-05\n",
      "Epoch 25/50\n",
      "50000/50000 [==============================] - 3s 59us/step - loss: 5.2911e-05\n",
      "Epoch 26/50\n",
      "50000/50000 [==============================] - 3s 54us/step - loss: 4.8838e-05\n",
      "Epoch 27/50\n",
      "50000/50000 [==============================] - 3s 56us/step - loss: 4.5213e-05\n",
      "Epoch 28/50\n",
      "50000/50000 [==============================] - 3s 57us/step - loss: 4.2025e-05\n",
      "Epoch 29/50\n",
      "50000/50000 [==============================] - 3s 57us/step - loss: 3.9167e-05\n",
      "Epoch 30/50\n",
      "50000/50000 [==============================] - 3s 56us/step - loss: 3.6573e-05\n",
      "Epoch 31/50\n",
      "50000/50000 [==============================] - 3s 55us/step - loss: 3.4282e-05\n",
      "Epoch 32/50\n",
      "50000/50000 [==============================] - 3s 56us/step - loss: 3.2201e-05\n",
      "Epoch 33/50\n",
      "50000/50000 [==============================] - 3s 56us/step - loss: 3.0259e-05\n",
      "Epoch 34/50\n",
      "50000/50000 [==============================] - 3s 56us/step - loss: 2.8517e-05\n",
      "Epoch 35/50\n",
      "50000/50000 [==============================] - 3s 58us/step - loss: 2.6968e-05\n",
      "Epoch 36/50\n",
      "50000/50000 [==============================] - 3s 59us/step - loss: 2.5520e-05\n",
      "Epoch 37/50\n",
      "50000/50000 [==============================] - 3s 57us/step - loss: 2.4197e-05\n",
      "Epoch 38/50\n",
      "50000/50000 [==============================] - 3s 55us/step - loss: 2.2989e-05\n",
      "Epoch 39/50\n",
      "50000/50000 [==============================] - 3s 56us/step - loss: 2.1854e-05\n",
      "Epoch 40/50\n",
      "50000/50000 [==============================] - 3s 57us/step - loss: 2.0842e-05\n",
      "Epoch 41/50\n",
      "50000/50000 [==============================] - 3s 55us/step - loss: 1.9936e-05\n",
      "Epoch 42/50\n",
      "50000/50000 [==============================] - 3s 54us/step - loss: 1.8995e-05\n",
      "Epoch 43/50\n",
      "50000/50000 [==============================] - 3s 53us/step - loss: 1.8217e-05\n",
      "Epoch 44/50\n",
      "50000/50000 [==============================] - 3s 56us/step - loss: 1.7469e-05\n",
      "Epoch 45/50\n",
      "50000/50000 [==============================] - 3s 58us/step - loss: 1.6752e-05\n",
      "Epoch 46/50\n",
      "50000/50000 [==============================] - 3s 55us/step - loss: 1.6069e-05\n",
      "Epoch 47/50\n",
      "50000/50000 [==============================] - 3s 58us/step - loss: 1.5428e-05\n",
      "Epoch 48/50\n",
      "50000/50000 [==============================] - 3s 59us/step - loss: 1.4882e-05\n",
      "Epoch 49/50\n",
      "50000/50000 [==============================] - 3s 59us/step - loss: 1.4322e-05\n",
      "Epoch 50/50\n",
      "50000/50000 [==============================] - 3s 56us/step - loss: 1.3819e-05\n",
      "10/10 [==============================] - 0s 121us/step\n"
     ]
    },
    {
     "data": {
      "image/png": "[encoded data removed]",
      "text/plain": [
       "<matplotlib.figure.Figure at 0x20df762ea90>"
      ]
     },
     "metadata": {},
     "output_type": "display_data"
    }
   ],
   "source": [
    "model.fit(x_train, y_train, epochs=20, batch_size=100, verbose=1)\n",
    "\n",
    "loss_and_metrics = model.evaluate(x_test, y_test, batch_size=100)\n",
    "\n",
    "classes = model.predict(x_test, batch_size=1)\n",
    "\n",
    "test=x_test.reshape(-1)\n",
    "plt.plot(test,classes,c='r')\n",
    "plt.plot(test,y_test,c='b')\n",
    "plt.show()"
   ]
  },
  {
   "cell_type": "code",
   "execution_count": null,
   "metadata": {},
   "outputs": [],
   "source": [
    "##Convolution vs Cross-Correlation "
   ]
  },
  {
   "cell_type": "code",
   "execution_count": 70,
   "metadata": {},
   "outputs": [
    {
     "data": {
      "text/plain": [
       "array([[[[0.32916529]],\n",
       "\n",
       "        [[0.81633941]],\n",
       "\n",
       "        [[0.35157139]]],\n",
       "\n",
       "\n",
       "       [[[0.96196602]],\n",
       "\n",
       "        [[0.79154537]],\n",
       "\n",
       "        [[0.81330189]]],\n",
       "\n",
       "\n",
       "       [[[0.16032135]],\n",
       "\n",
       "        [[0.09768704]],\n",
       "\n",
       "        [[0.32141841]]]])"
      ]
     },
     "execution_count": 70,
     "metadata": {},
     "output_type": "execute_result"
    }
   ],
   "source": [
    "import numpy as np\n",
    "np.random.random([3,3,1,1])"
   ]
  },
  {
   "cell_type": "code",
   "execution_count": 3,
   "metadata": {},
   "outputs": [],
   "source": [
    "in1 = tf.Variable(tf.random_normal([1,10,10,1]))\n",
    "fltr = tf.Variable(tf.random_normal([3,3,1,1]))"
   ]
  },
  {
   "cell_type": "code",
   "execution_count": 60,
   "metadata": {},
   "outputs": [
    {
     "name": "stdout",
     "output_type": "stream",
     "text": [
      "Wall time: 993 µs\n",
      "Wall time: 945 µs\n"
     ]
    }
   ],
   "source": [
    "%time opwithpadding = tf.nn.conv2d(in1, fltr, strides=[1,1,1,1], padding='SAME')  # retains same size 10X10\n",
    "\n",
    "#   1 X  (10X10) Conv 3 X (3X1) arrays\n",
    "\n",
    "%time opwithnopadding = tf.nn.conv2d(in1, fltr, strides=[1,1,1,1], padding='VALID')  # input - filter +1 size 8X8 "
   ]
  },
  {
   "cell_type": "code",
   "execution_count": 75,
   "metadata": {},
   "outputs": [
    {
     "data": {
      "text/plain": [
       "8"
      ]
     },
     "execution_count": 75,
     "metadata": {},
     "output_type": "execute_result"
    }
   ],
   "source": [
    "4*2"
   ]
  },
  {
   "cell_type": "code",
   "execution_count": 62,
   "metadata": {
    "scrolled": false
   },
   "outputs": [
    {
     "name": "stdout",
     "output_type": "stream",
     "text": [
      "[[[[ 1.0578686 ]\n",
      "   [-3.7649472 ]\n",
      "   [-5.0892825 ]\n",
      "   [ 1.8870692 ]\n",
      "   [ 5.73699   ]\n",
      "   [-2.175654  ]\n",
      "   [-7.6429496 ]\n",
      "   [ 0.37922674]]\n",
      "\n",
      "  [[ 4.8456807 ]\n",
      "   [-2.9689376 ]\n",
      "   [ 0.62603045]\n",
      "   [ 2.839227  ]\n",
      "   [ 1.7731391 ]\n",
      "   [-4.286278  ]\n",
      "   [-0.2755674 ]\n",
      "   [-0.50356156]]\n",
      "\n",
      "  [[ 4.46611   ]\n",
      "   [-2.3961942 ]\n",
      "   [-1.6677423 ]\n",
      "   [ 2.6649065 ]\n",
      "   [ 3.0636454 ]\n",
      "   [-5.946838  ]\n",
      "   [-6.403472  ]\n",
      "   [-3.0676098 ]]\n",
      "\n",
      "  [[-0.23702437]\n",
      "   [-2.032251  ]\n",
      "   [-1.6297423 ]\n",
      "   [ 0.06239989]\n",
      "   [ 0.5634524 ]\n",
      "   [-8.406761  ]\n",
      "   [-0.9992273 ]\n",
      "   [-0.76279205]]\n",
      "\n",
      "  [[-1.3795543 ]\n",
      "   [-1.4852816 ]\n",
      "   [ 1.4386551 ]\n",
      "   [-0.44974208]\n",
      "   [ 1.4707255 ]\n",
      "   [-5.2356014 ]\n",
      "   [-1.6698323 ]\n",
      "   [ 1.659137  ]]\n",
      "\n",
      "  [[ 1.0164473 ]\n",
      "   [ 0.6753421 ]\n",
      "   [-4.7678547 ]\n",
      "   [-5.081696  ]\n",
      "   [ 3.7133868 ]\n",
      "   [-0.719852  ]\n",
      "   [ 3.3986757 ]\n",
      "   [ 2.038337  ]]\n",
      "\n",
      "  [[ 0.2909453 ]\n",
      "   [ 3.116968  ]\n",
      "   [ 1.8020649 ]\n",
      "   [-5.268007  ]\n",
      "   [ 3.872973  ]\n",
      "   [-2.3051968 ]\n",
      "   [ 0.571586  ]\n",
      "   [-2.353281  ]]\n",
      "\n",
      "  [[ 3.517624  ]\n",
      "   [-0.850234  ]\n",
      "   [-3.069877  ]\n",
      "   [ 0.4592573 ]\n",
      "   [ 1.9365003 ]\n",
      "   [ 1.4423698 ]\n",
      "   [-0.5110207 ]\n",
      "   [-2.627926  ]]]]\n",
      "Wall time: 12 ms\n",
      "[[[[ 3.002784  ]\n",
      "   [-0.52098644]\n",
      "   [-4.7485895 ]\n",
      "   [-6.350556  ]\n",
      "   [-1.0747615 ]\n",
      "   [ 3.643775  ]\n",
      "   [ 0.56330323]\n",
      "   [-5.893863  ]\n",
      "   [-1.4464403 ]\n",
      "   [ 1.1668072 ]]\n",
      "\n",
      "  [[ 3.3819828 ]\n",
      "   [ 1.0578686 ]\n",
      "   [-3.7649472 ]\n",
      "   [-5.0892825 ]\n",
      "   [ 1.8870692 ]\n",
      "   [ 5.73699   ]\n",
      "   [-2.175654  ]\n",
      "   [-7.6429496 ]\n",
      "   [ 0.37922674]\n",
      "   [ 0.5130925 ]]\n",
      "\n",
      "  [[ 5.1903877 ]\n",
      "   [ 4.8456807 ]\n",
      "   [-2.9689376 ]\n",
      "   [ 0.62603045]\n",
      "   [ 2.839227  ]\n",
      "   [ 1.7731391 ]\n",
      "   [-4.286278  ]\n",
      "   [-0.2755674 ]\n",
      "   [-0.50356156]\n",
      "   [-0.3059835 ]]\n",
      "\n",
      "  [[ 3.3709066 ]\n",
      "   [ 4.46611   ]\n",
      "   [-2.3961942 ]\n",
      "   [-1.6677423 ]\n",
      "   [ 2.6649065 ]\n",
      "   [ 3.0636454 ]\n",
      "   [-5.946838  ]\n",
      "   [-6.403472  ]\n",
      "   [-3.0676098 ]\n",
      "   [-2.1504579 ]]\n",
      "\n",
      "  [[ 2.7759829 ]\n",
      "   [-0.23702437]\n",
      "   [-2.032251  ]\n",
      "   [-1.6297423 ]\n",
      "   [ 0.06239989]\n",
      "   [ 0.5634524 ]\n",
      "   [-8.406761  ]\n",
      "   [-0.9992273 ]\n",
      "   [-0.76279205]\n",
      "   [-2.0065806 ]]\n",
      "\n",
      "  [[-0.657296  ]\n",
      "   [-1.3795543 ]\n",
      "   [-1.4852816 ]\n",
      "   [ 1.4386551 ]\n",
      "   [-0.44974208]\n",
      "   [ 1.4707255 ]\n",
      "   [-5.2356014 ]\n",
      "   [-1.6698323 ]\n",
      "   [ 1.659137  ]\n",
      "   [ 5.0863156 ]]\n",
      "\n",
      "  [[ 1.1187307 ]\n",
      "   [ 1.0164473 ]\n",
      "   [ 0.6753421 ]\n",
      "   [-4.7678547 ]\n",
      "   [-5.081696  ]\n",
      "   [ 3.7133868 ]\n",
      "   [-0.719852  ]\n",
      "   [ 3.3986757 ]\n",
      "   [ 2.038337  ]\n",
      "   [ 1.5419203 ]]\n",
      "\n",
      "  [[ 0.23198284]\n",
      "   [ 0.2909453 ]\n",
      "   [ 3.116968  ]\n",
      "   [ 1.8020649 ]\n",
      "   [-5.268007  ]\n",
      "   [ 3.872973  ]\n",
      "   [-2.3051968 ]\n",
      "   [ 0.571586  ]\n",
      "   [-2.353281  ]\n",
      "   [-3.9603727 ]]\n",
      "\n",
      "  [[-1.2533227 ]\n",
      "   [ 3.517624  ]\n",
      "   [-0.850234  ]\n",
      "   [-3.069877  ]\n",
      "   [ 0.4592573 ]\n",
      "   [ 1.9365003 ]\n",
      "   [ 1.4423698 ]\n",
      "   [-0.5110207 ]\n",
      "   [-2.627926  ]\n",
      "   [-2.5955637 ]]\n",
      "\n",
      "  [[-1.5749743 ]\n",
      "   [ 0.26547807]\n",
      "   [ 2.189699  ]\n",
      "   [-2.2857218 ]\n",
      "   [ 1.4726057 ]\n",
      "   [-3.2480314 ]\n",
      "   [ 4.062808  ]\n",
      "   [-5.131107  ]\n",
      "   [ 3.3073559 ]\n",
      "   [ 0.37140086]]]]\n",
      "Wall time: 12 ms\n"
     ]
    }
   ],
   "source": [
    "with tf.Session() as session:\n",
    "    init_op = tf.initialize_all_variables()\n",
    "    session.run(init_op)\n",
    "    %time print(session.run(opwithnopadding))\n",
    "    %time print(session.run(opwithpadding))"
   ]
  },
  {
   "cell_type": "code",
   "execution_count": 2,
   "metadata": {},
   "outputs": [
    {
     "name": "stderr",
     "output_type": "stream",
     "text": [
      "C:\\IntelPython3\\envs\\idpfull\\lib\\site-packages\\h5py\\__init__.py:36: FutureWarning: Conversion of the second argument of issubdtype from `float` to `np.floating` is deprecated. In future, it will be treated as `np.float64 == np.dtype(float).type`.\n",
      "  from ._conv import register_converters as _register_converters\n"
     ]
    },
    {
     "data": {
      "text/plain": [
       "'1.8.0'"
      ]
     },
     "execution_count": 2,
     "metadata": {},
     "output_type": "execute_result"
    }
   ],
   "source": [
    "import tensorflow as tf\n",
    "tf.__version__"
   ]
  },
  {
   "cell_type": "code",
   "execution_count": 3,
   "metadata": {},
   "outputs": [
    {
     "name": "stdout",
     "output_type": "stream",
     "text": [
      "WARNING:tensorflow:From <ipython-input-3-8bf8ae5a5303>:2: read_data_sets (from tensorflow.contrib.learn.python.learn.datasets.mnist) is deprecated and will be removed in a future version.\n",
      "Instructions for updating:\n",
      "Please use alternatives such as official/mnist/dataset.py from tensorflow/models.\n",
      "WARNING:tensorflow:From C:\\IntelPython3\\envs\\idpfull\\lib\\site-packages\\tensorflow\\contrib\\learn\\python\\learn\\datasets\\mnist.py:260: maybe_download (from tensorflow.contrib.learn.python.learn.datasets.base) is deprecated and will be removed in a future version.\n",
      "Instructions for updating:\n",
      "Please write your own downloading logic.\n",
      "WARNING:tensorflow:From C:\\IntelPython3\\envs\\idpfull\\lib\\site-packages\\tensorflow\\contrib\\learn\\python\\learn\\datasets\\mnist.py:262: extract_images (from tensorflow.contrib.learn.python.learn.datasets.mnist) is deprecated and will be removed in a future version.\n",
      "Instructions for updating:\n",
      "Please use tf.data to implement this functionality.\n",
      "Extracting MNIST_data/train-images-idx3-ubyte.gz\n",
      "WARNING:tensorflow:From C:\\IntelPython3\\envs\\idpfull\\lib\\site-packages\\tensorflow\\contrib\\learn\\python\\learn\\datasets\\mnist.py:267: extract_labels (from tensorflow.contrib.learn.python.learn.datasets.mnist) is deprecated and will be removed in a future version.\n",
      "Instructions for updating:\n",
      "Please use tf.data to implement this functionality.\n",
      "Extracting MNIST_data/train-labels-idx1-ubyte.gz\n",
      "WARNING:tensorflow:From C:\\IntelPython3\\envs\\idpfull\\lib\\site-packages\\tensorflow\\contrib\\learn\\python\\learn\\datasets\\mnist.py:110: dense_to_one_hot (from tensorflow.contrib.learn.python.learn.datasets.mnist) is deprecated and will be removed in a future version.\n",
      "Instructions for updating:\n",
      "Please use tf.one_hot on tensors.\n",
      "Extracting MNIST_data/t10k-images-idx3-ubyte.gz\n",
      "Extracting MNIST_data/t10k-labels-idx1-ubyte.gz\n",
      "WARNING:tensorflow:From C:\\IntelPython3\\envs\\idpfull\\lib\\site-packages\\tensorflow\\contrib\\learn\\python\\learn\\datasets\\mnist.py:290: DataSet.__init__ (from tensorflow.contrib.learn.python.learn.datasets.mnist) is deprecated and will be removed in a future version.\n",
      "Instructions for updating:\n",
      "Please use alternatives such as official/mnist/dataset.py from tensorflow/models.\n"
     ]
    }
   ],
   "source": [
    "from tensorflow.examples.tutorials.mnist import input_data\n",
    "mnist = input_data.read_data_sets(\"MNIST_data/\", one_hot=True)"
   ]
  },
  {
   "cell_type": "markdown",
   "metadata": {},
   "source": [
    "Two ways of runnig a tensor flow code\n",
    "+ Build the graph and run the ops\n",
    "+ Run it interactively on the fly"
   ]
  },
  {
   "cell_type": "code",
   "execution_count": 3,
   "metadata": {},
   "outputs": [],
   "source": [
    "sess = tf.InteractiveSession()"
   ]
  },
  {
   "cell_type": "code",
   "execution_count": 4,
   "metadata": {},
   "outputs": [],
   "source": [
    "x  = tf.placeholder(tf.float32, shape=[None, 784])  #  28x28 matrix spread through the line array\n",
    "y_ = tf.placeholder(tf.float32, shape=[None, 10])  # predicted label 0-9"
   ]
  },
  {
   "cell_type": "code",
   "execution_count": 8,
   "metadata": {},
   "outputs": [],
   "source": [
    "# Weight tensor\n",
    "W = tf.Variable(tf.zeros([784,10],tf.float32))\n",
    "# Bias tensor\n",
    "b = tf.Variable(tf.zeros([10],tf.float32))"
   ]
  },
  {
   "cell_type": "code",
   "execution_count": 9,
   "metadata": {},
   "outputs": [],
   "source": [
    "# run the op initialize_all_variables using an interactive session\n",
    "sess.run(tf.global_variables_initializer())"
   ]
  },
  {
   "cell_type": "code",
   "execution_count": 12,
   "metadata": {},
   "outputs": [
    {
     "data": {
      "text/plain": [
       "<tf.Tensor 'add_2:0' shape=(?, 10) dtype=float32>"
      ]
     },
     "execution_count": 12,
     "metadata": {},
     "output_type": "execute_result"
    }
   ],
   "source": [
    "#mathematical operation to add weights and biases to the inputs\n",
    "tf.matmul(x,W) + b"
   ]
  },
  {
   "cell_type": "code",
   "execution_count": 13,
   "metadata": {},
   "outputs": [],
   "source": [
    "y = tf.nn.softmax(tf.matmul(x,W) + b)"
   ]
  },
  {
   "cell_type": "code",
   "execution_count": 14,
   "metadata": {},
   "outputs": [],
   "source": [
    "cross_entropy = tf.reduce_mean(-tf.reduce_sum(y_ * tf.log(y), reduction_indices=[1]))"
   ]
  },
  {
   "cell_type": "code",
   "execution_count": 15,
   "metadata": {},
   "outputs": [],
   "source": [
    "train_step = tf.train.GradientDescentOptimizer(0.5).minimize(cross_entropy)"
   ]
  },
  {
   "cell_type": "code",
   "execution_count": 16,
   "metadata": {},
   "outputs": [],
   "source": [
    "#Load 50 training examples for each training iteration   \n",
    "for i in range(1000):\n",
    "    batch = mnist.train.next_batch(50)\n",
    "    train_step.run(feed_dict={x: batch[0], y_: batch[1]})"
   ]
  },
  {
   "cell_type": "code",
   "execution_count": 17,
   "metadata": {},
   "outputs": [
    {
     "name": "stdout",
     "output_type": "stream",
     "text": [
      "The final accuracy for the simple ANN model is: 90.60999751091003 % \n"
     ]
    }
   ],
   "source": [
    "correct_prediction = tf.equal(tf.argmax(y,1), tf.argmax(y_,1))\n",
    "accuracy = tf.reduce_mean(tf.cast(correct_prediction, tf.float32))\n",
    "acc = accuracy.eval(feed_dict={x: mnist.test.images, y_: mnist.test.labels}) * 100\n",
    "print(\"The final accuracy for the simple ANN model is: {} % \".format(acc) )"
   ]
  }
 ],
 "metadata": {
  "kernelspec": {
   "display_name": "Python 3",
   "language": "python",
   "name": "python3"
  },
  "language_info": {
   "codemirror_mode": {
    "name": "ipython",
    "version": 3
   },
   "file_extension": ".py",
   "mimetype": "text/x-python",
   "name": "python",
   "nbconvert_exporter": "python",
   "pygments_lexer": "ipython3",
   "version": "3.6.3"
  }
 },
 "nbformat": 4,
 "nbformat_minor": 2
}
